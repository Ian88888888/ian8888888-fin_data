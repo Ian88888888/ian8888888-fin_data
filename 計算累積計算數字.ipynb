{
  "nbformat": 4,
  "nbformat_minor": 0,
  "metadata": {
    "colab": {
      "provenance": [],
      "authorship_tag": "ABX9TyOBL0OlyhSMyVChLWp9BW3l",
      "include_colab_link": true
    },
    "kernelspec": {
      "name": "python3",
      "display_name": "Python 3"
    },
    "language_info": {
      "name": "python"
    }
  },
  "cells": [
    {
      "cell_type": "markdown",
      "metadata": {
        "id": "view-in-github",
        "colab_type": "text"
      },
      "source": [
        "<a href=\"https://colab.research.google.com/github/Ian88888888/ian8888888-fin_data/blob/main/%E8%A8%88%E7%AE%97%E7%B4%AF%E7%A9%8D%E8%A8%88%E7%AE%97%E6%95%B8%E5%AD%97.ipynb\" target=\"_parent\"><img src=\"https://colab.research.google.com/assets/colab-badge.svg\" alt=\"Open In Colab\"/></a>"
      ]
    },
    {
      "cell_type": "code",
      "execution_count": 1,
      "metadata": {
        "colab": {
          "base_uri": "https://localhost:8080/"
        },
        "id": "yI4j7GLzlscE",
        "outputId": "24bec4ea-1208-481d-bad9-002e4fd7e3a7"
      },
      "outputs": [
        {
          "output_type": "execute_result",
          "data": {
            "text/plain": [
              "4"
            ]
          },
          "metadata": {},
          "execution_count": 1
        }
      ],
      "source": [
        "1+3"
      ]
    },
    {
      "cell_type": "code",
      "source": [
        "Q1 = 26295929"
      ],
      "metadata": {
        "id": "mwWy2fTWpcBj"
      },
      "execution_count": 8,
      "outputs": []
    },
    {
      "cell_type": "code",
      "source": [
        "Q3 = 27002293"
      ],
      "metadata": {
        "id": "ZVaawuPttD-R"
      },
      "execution_count": 6,
      "outputs": []
    },
    {
      "cell_type": "code",
      "source": [
        "Q4 = 28347871"
      ],
      "metadata": {
        "id": "NXyChILmtkNh"
      },
      "execution_count": 7,
      "outputs": []
    },
    {
      "cell_type": "markdown",
      "source": [],
      "metadata": {
        "id": "mqM0XElwvT4I"
      }
    },
    {
      "cell_type": "code",
      "source": [
        "Q2 = 27668242"
      ],
      "metadata": {
        "id": "1rrmBeP0trPI"
      },
      "execution_count": 10,
      "outputs": []
    },
    {
      "cell_type": "code",
      "source": [
        "aCC_Q1 = Q1\n",
        "print(aCC_Q1)"
      ],
      "metadata": {
        "colab": {
          "base_uri": "https://localhost:8080/"
        },
        "id": "tMRluRTZuVXo",
        "outputId": "46ace321-3333-4c8e-b149-a6c6a1d589e1"
      },
      "execution_count": 13,
      "outputs": [
        {
          "output_type": "stream",
          "name": "stdout",
          "text": [
            "26295929\n"
          ]
        }
      ]
    },
    {
      "cell_type": "code",
      "source": [
        "aCC_Q2 = Q1+Q2\n",
        "print(aCC_Q2)"
      ],
      "metadata": {
        "colab": {
          "base_uri": "https://localhost:8080/"
        },
        "id": "yoWjqWdFuo5o",
        "outputId": "7d163996-4228-4807-a664-4c5204103fc4"
      },
      "execution_count": 14,
      "outputs": [
        {
          "output_type": "stream",
          "name": "stdout",
          "text": [
            "53964171\n"
          ]
        }
      ]
    },
    {
      "cell_type": "code",
      "source": [
        "aCC_Q3 = Q1+Q2+Q3\n",
        "print(aCC_Q3)"
      ],
      "metadata": {
        "colab": {
          "base_uri": "https://localhost:8080/"
        },
        "id": "1fZJmTrAuuMo",
        "outputId": "382dd8e7-9dc5-42ec-f491-048bc24308e1"
      },
      "execution_count": 15,
      "outputs": [
        {
          "output_type": "stream",
          "name": "stdout",
          "text": [
            "80966464\n"
          ]
        }
      ]
    },
    {
      "cell_type": "code",
      "source": [
        "aCC_Q4 = Q1+Q2+Q3+Q4\n",
        "print(aCC_Q4)"
      ],
      "metadata": {
        "colab": {
          "base_uri": "https://localhost:8080/"
        },
        "id": "NMnY2Wqeu1IX",
        "outputId": "bb0c4081-c7fc-4b04-fc04-89d90eb6652d"
      },
      "execution_count": 16,
      "outputs": [
        {
          "output_type": "stream",
          "name": "stdout",
          "text": [
            "109314335\n"
          ]
        }
      ]
    },
    {
      "cell_type": "code",
      "source": [],
      "metadata": {
        "id": "tzlOWv02vBcI"
      },
      "execution_count": null,
      "outputs": []
    }
  ]
}